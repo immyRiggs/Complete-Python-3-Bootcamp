{
 "cells": [
  {
   "cell_type": "code",
   "execution_count": 1,
   "id": "3950da6b",
   "metadata": {},
   "outputs": [],
   "source": [
    "# Interactive program\n",
    "# use visual representaition for user to see\n",
    "# take user input to change visual"
   ]
  },
  {
   "cell_type": "code",
   "execution_count": 2,
   "id": "fa13259f",
   "metadata": {},
   "outputs": [
    {
     "name": "stdout",
     "output_type": "stream",
     "text": [
      "[1, 2, 3]\n"
     ]
    }
   ],
   "source": [
    "print([1,2,3])"
   ]
  },
  {
   "cell_type": "code",
   "execution_count": 3,
   "id": "a2b03cc5",
   "metadata": {},
   "outputs": [
    {
     "name": "stdout",
     "output_type": "stream",
     "text": [
      "[1, 2, 3]\n",
      "[4, 5, 6]\n",
      "[7, 8, 9]\n"
     ]
    }
   ],
   "source": [
    "print([1,2,3])\n",
    "print([4,5,6])\n",
    "print([7,8,9])"
   ]
  },
  {
   "cell_type": "code",
   "execution_count": 4,
   "id": "b79e4545",
   "metadata": {},
   "outputs": [],
   "source": [
    "def display(row1,row2,row3):\n",
    "    print(row1)\n",
    "    print(row2)\n",
    "    print(row3)"
   ]
  },
  {
   "cell_type": "code",
   "execution_count": 6,
   "id": "0b158edb",
   "metadata": {},
   "outputs": [],
   "source": [
    "row1 =[1,2,3]\n",
    "row2 =[4,5,6]\n",
    "row3 =[7,8,9]"
   ]
  },
  {
   "cell_type": "code",
   "execution_count": 12,
   "id": "49c756b2",
   "metadata": {},
   "outputs": [],
   "source": [
    "row11 =[' ',' ',' ']\n",
    "row12 =[' ',' ',' ']\n",
    "row13 =[' ',' ',' ']"
   ]
  },
  {
   "cell_type": "code",
   "execution_count": 9,
   "id": "4a5437c6",
   "metadata": {},
   "outputs": [
    {
     "name": "stdout",
     "output_type": "stream",
     "text": [
      "[' ', ' ', ' ']\n",
      "[' ', ' ', ' ']\n",
      "[' ', ' ', ' ']\n"
     ]
    }
   ],
   "source": [
    "display(row11,row12,row13)"
   ]
  },
  {
   "cell_type": "code",
   "execution_count": 13,
   "id": "2b69d267",
   "metadata": {},
   "outputs": [],
   "source": [
    "row12[2] = 'X'"
   ]
  },
  {
   "cell_type": "code",
   "execution_count": 14,
   "id": "9a063286",
   "metadata": {},
   "outputs": [
    {
     "name": "stdout",
     "output_type": "stream",
     "text": [
      "[' ', ' ', ' ']\n",
      "[' ', ' ', 'X']\n",
      "[' ', ' ', ' ']\n"
     ]
    }
   ],
   "source": [
    "display(row11,row12,row13)"
   ]
  },
  {
   "cell_type": "code",
   "execution_count": 15,
   "id": "2a2524b7",
   "metadata": {},
   "outputs": [],
   "source": [
    "# Accepting user input"
   ]
  },
  {
   "cell_type": "code",
   "execution_count": 23,
   "id": "dff0a269",
   "metadata": {},
   "outputs": [
    {
     "name": "stdout",
     "output_type": "stream",
     "text": [
      "Please enter a value: 2\n"
     ]
    }
   ],
   "source": [
    "result = int(input('Please enter a value: '))# input value will be string, for other types, cast"
   ]
  },
  {
   "cell_type": "code",
   "execution_count": 24,
   "id": "458e85ad",
   "metadata": {},
   "outputs": [
    {
     "data": {
      "text/plain": [
       "int"
      ]
     },
     "execution_count": 24,
     "metadata": {},
     "output_type": "execute_result"
    }
   ],
   "source": [
    "type(result)"
   ]
  },
  {
   "cell_type": "code",
   "execution_count": 25,
   "id": "422a4700",
   "metadata": {},
   "outputs": [
    {
     "data": {
      "text/plain": [
       "float"
      ]
     },
     "execution_count": 25,
     "metadata": {},
     "output_type": "execute_result"
    }
   ],
   "source": [
    "type(3.14)"
   ]
  },
  {
   "cell_type": "code",
   "execution_count": 29,
   "id": "63d2fd18",
   "metadata": {},
   "outputs": [
    {
     "data": {
      "text/plain": [
       "3"
      ]
     },
     "execution_count": 29,
     "metadata": {},
     "output_type": "execute_result"
    }
   ],
   "source": [
    "int(3.14)"
   ]
  },
  {
   "cell_type": "code",
   "execution_count": 30,
   "id": "c1e54199",
   "metadata": {},
   "outputs": [
    {
     "name": "stdout",
     "output_type": "stream",
     "text": [
      "Position index: 2\n"
     ]
    }
   ],
   "source": [
    "pos_idx = int(input('Position index: '))"
   ]
  },
  {
   "cell_type": "code",
   "execution_count": 31,
   "id": "d2c3083b",
   "metadata": {},
   "outputs": [
    {
     "data": {
      "text/plain": [
       "' '"
      ]
     },
     "execution_count": 31,
     "metadata": {},
     "output_type": "execute_result"
    }
   ],
   "source": [
    "row11[pos_idx]"
   ]
  },
  {
   "cell_type": "code",
   "execution_count": 32,
   "id": "7292524a",
   "metadata": {},
   "outputs": [],
   "source": [
    "# Validating user input"
   ]
  },
  {
   "cell_type": "code",
   "execution_count": 38,
   "id": "9df1ac33",
   "metadata": {},
   "outputs": [
    {
     "name": "stdout",
     "output_type": "stream",
     "text": [
      "enter a number 1-5: 4\n"
     ]
    }
   ],
   "source": [
    "n = 0\n",
    "while n not in range(1,6):\n",
    "    n = int(input('enter a number 1-5: '))"
   ]
  },
  {
   "cell_type": "code",
   "execution_count": 76,
   "id": "d0b85ac7",
   "metadata": {},
   "outputs": [],
   "source": [
    "def userChoice():\n",
    "    choice = 'X'\n",
    "    accept_values = range(1,11)\n",
    "    withinRange = False\n",
    "    while choice.isdigit() == False or withinRange == False:\n",
    "        choice = input('Enter a number (1-10): ')\n",
    "        if choice.isdigit() == False:\n",
    "            print('Not a digit!')\n",
    "        if choice.isdigit() == True:\n",
    "            if int(choice) in accept_values:\n",
    "                withinRange = True\n",
    "            else:\n",
    "                withinRange = False\n",
    "                print('Not in range!')\n",
    "    return int(choice)"
   ]
  },
  {
   "cell_type": "code",
   "execution_count": 77,
   "id": "f9890cb2",
   "metadata": {},
   "outputs": [
    {
     "name": "stdout",
     "output_type": "stream",
     "text": [
      "Enter a number (1-10): 12\n",
      "Not in range!\n",
      "Enter a number (1-10): 2\n"
     ]
    },
    {
     "data": {
      "text/plain": [
       "2"
      ]
     },
     "execution_count": 77,
     "metadata": {},
     "output_type": "execute_result"
    }
   ],
   "source": [
    "userChoice()"
   ]
  },
  {
   "cell_type": "code",
   "execution_count": 78,
   "id": "ed82056e",
   "metadata": {},
   "outputs": [],
   "source": [
    "# simple use interaction\n",
    "\n",
    "\n"
   ]
  },
  {
   "cell_type": "code",
   "execution_count": null,
   "id": "148278bd",
   "metadata": {},
   "outputs": [],
   "source": []
  },
  {
   "cell_type": "code",
   "execution_count": null,
   "id": "bad74f8f",
   "metadata": {},
   "outputs": [],
   "source": []
  },
  {
   "cell_type": "code",
   "execution_count": null,
   "id": "8b6dde33",
   "metadata": {},
   "outputs": [],
   "source": []
  },
  {
   "cell_type": "code",
   "execution_count": null,
   "id": "74d72528",
   "metadata": {},
   "outputs": [],
   "source": []
  },
  {
   "cell_type": "code",
   "execution_count": null,
   "id": "9cd4d695",
   "metadata": {},
   "outputs": [],
   "source": []
  },
  {
   "cell_type": "code",
   "execution_count": null,
   "id": "73b05e97",
   "metadata": {},
   "outputs": [],
   "source": []
  },
  {
   "cell_type": "code",
   "execution_count": 94,
   "id": "dc0a6845",
   "metadata": {},
   "outputs": [],
   "source": [
    "game_list = ['0','1','2']"
   ]
  },
  {
   "cell_type": "code",
   "execution_count": 82,
   "id": "ad81c115",
   "metadata": {},
   "outputs": [],
   "source": [
    "def display_game(game_list):\n",
    "    print(\"current game list\")\n",
    "    print(game_list)"
   ]
  },
  {
   "cell_type": "code",
   "execution_count": 83,
   "id": "dc823be9",
   "metadata": {},
   "outputs": [
    {
     "name": "stdout",
     "output_type": "stream",
     "text": [
      "current game list\n",
      "[0, 1, 2]\n"
     ]
    }
   ],
   "source": [
    "display_game(game_list)"
   ]
  },
  {
   "cell_type": "code",
   "execution_count": 86,
   "id": "3bba0604",
   "metadata": {},
   "outputs": [],
   "source": [
    "def position_choice():\n",
    "    choice = 'wrong'\n",
    "    while choice not in ['0','1','2']:\n",
    "        choice = input ('Pick a position[0,1,2]: ')\n",
    "        if choice not in ['0','1','2']:\n",
    "            print('sorrry, invalid choice')\n",
    "    return int(choice)"
   ]
  },
  {
   "cell_type": "code",
   "execution_count": 88,
   "id": "70d411c9",
   "metadata": {},
   "outputs": [
    {
     "name": "stdout",
     "output_type": "stream",
     "text": [
      "Pick a position[0,1,2]: 5\n",
      "sorrry, invalid choice\n",
      "Pick a position[0,1,2]: 2\n"
     ]
    },
    {
     "data": {
      "text/plain": [
       "2"
      ]
     },
     "execution_count": 88,
     "metadata": {},
     "output_type": "execute_result"
    }
   ],
   "source": [
    "position_choice()"
   ]
  },
  {
   "cell_type": "code",
   "execution_count": 91,
   "id": "f8b71190",
   "metadata": {},
   "outputs": [],
   "source": [
    "def replacement_choice(game_list,position):\n",
    "    user_placement = input('Type a string to place at position: ')\n",
    "    game_list[position] = user_placement\n",
    "    return game_list"
   ]
  },
  {
   "cell_type": "code",
   "execution_count": 96,
   "id": "aabb743f",
   "metadata": {},
   "outputs": [
    {
     "name": "stdout",
     "output_type": "stream",
     "text": [
      "Type a string to place at position: 1\n"
     ]
    },
    {
     "data": {
      "text/plain": [
       "['0', '1', '2']"
      ]
     },
     "execution_count": 96,
     "metadata": {},
     "output_type": "execute_result"
    }
   ],
   "source": [
    "replacement_choice(game_list,1)"
   ]
  },
  {
   "cell_type": "code",
   "execution_count": 102,
   "id": "e4d81daf",
   "metadata": {},
   "outputs": [],
   "source": [
    "def game_on_choice():\n",
    "    choice = 'wrong'\n",
    "    while choice not in ['Y','N']:\n",
    "        choice = input ('Keep playing? [Y,N]')\n",
    "        if choice not in ['Y','N']:\n",
    "            print('sorry, invalid choice')\n",
    "    return choice == 'Y'"
   ]
  },
  {
   "cell_type": "code",
   "execution_count": 99,
   "id": "c01e4282",
   "metadata": {},
   "outputs": [
    {
     "name": "stdout",
     "output_type": "stream",
     "text": [
      "Keep playing? [Y,N]N\n"
     ]
    },
    {
     "data": {
      "text/plain": [
       "False"
      ]
     },
     "execution_count": 99,
     "metadata": {},
     "output_type": "execute_result"
    }
   ],
   "source": [
    "game_on()"
   ]
  },
  {
   "cell_type": "code",
   "execution_count": 103,
   "id": "be85f07a",
   "metadata": {},
   "outputs": [
    {
     "name": "stdout",
     "output_type": "stream",
     "text": [
      "current game list\n",
      "[0, 1, 2]\n",
      "Pick a position[0,1,2]: 3\n",
      "sorrry, invalid choice\n",
      "Pick a position[0,1,2]: 2\n",
      "Type a string to place at position: sdf\n",
      "current game list\n",
      "[0, 1, 'sdf']\n",
      "Keep playing? [Y,N]Y\n",
      "current game list\n",
      "[0, 1, 'sdf']\n",
      "Pick a position[0,1,2]: 0\n",
      "Type a string to place at position: start\n",
      "current game list\n",
      "['start', 1, 'sdf']\n",
      "Keep playing? [Y,N]Y\n",
      "current game list\n",
      "['start', 1, 'sdf']\n",
      "Pick a position[0,1,2]: 2\n",
      "Type a string to place at position: End\n",
      "current game list\n",
      "['start', 1, 'End']\n",
      "Keep playing? [Y,N]N\n"
     ]
    }
   ],
   "source": [
    "game_on = True\n",
    "game_list = [0,1,2]\n",
    "\n",
    "while game_on:\n",
    "    display_game(game_list)\n",
    "    position = position_choice()\n",
    "    game_list = replacement_choice(game_list,position)\n",
    "    display_game(game_list)\n",
    "    game_on = game_on_choice()"
   ]
  },
  {
   "cell_type": "code",
   "execution_count": 104,
   "id": "d2f9befe",
   "metadata": {},
   "outputs": [
    {
     "name": "stdout",
     "output_type": "stream",
     "text": [
      "3X3 grid with numbers:\n",
      "[[1, 2, 3], [1, 2, 3], [1, 2, 3]]\n"
     ]
    }
   ],
   "source": [
    "nums = []\n",
    "for i in range(3):\n",
    "    nums.append([])\n",
    "    for j in range(1, 4):\n",
    "        nums[i].append(j)\n",
    "print(\"3X3 grid with numbers:\")\n",
    "print(nums)"
   ]
  },
  {
   "cell_type": "code",
   "execution_count": 106,
   "id": "9e61a065",
   "metadata": {},
   "outputs": [
    {
     "name": "stdout",
     "output_type": "stream",
     "text": [
      "\n",
      " x|x|o\n",
      " -----\n",
      " o|o|x\n",
      " -----\n",
      " o|x|o\n",
      " \n"
     ]
    }
   ],
   "source": [
    "print(\"\"\"\n",
    " {}|{}|{}\n",
    " -----\n",
    " {}|{}|{}\n",
    " -----\n",
    " {}|{}|{}\n",
    " \"\"\".format('x','x','o','o','o','x','o','x','o'))"
   ]
  },
  {
   "cell_type": "code",
   "execution_count": null,
   "id": "bc9f00b8",
   "metadata": {},
   "outputs": [],
   "source": []
  }
 ],
 "metadata": {
  "kernelspec": {
   "display_name": "Python 3 (ipykernel)",
   "language": "python",
   "name": "python3"
  },
  "language_info": {
   "codemirror_mode": {
    "name": "ipython",
    "version": 3
   },
   "file_extension": ".py",
   "mimetype": "text/x-python",
   "name": "python",
   "nbconvert_exporter": "python",
   "pygments_lexer": "ipython3",
   "version": "3.9.7"
  }
 },
 "nbformat": 4,
 "nbformat_minor": 5
}
