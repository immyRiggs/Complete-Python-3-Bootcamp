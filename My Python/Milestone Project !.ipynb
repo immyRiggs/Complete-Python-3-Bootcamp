{
 "cells": [
  {
   "cell_type": "code",
   "execution_count": 1,
   "id": "7a5227d2",
   "metadata": {},
   "outputs": [],
   "source": [
    "# Milestone Project 1: Tic Tac Toe"
   ]
  },
  {
   "cell_type": "code",
   "execution_count": 2,
   "id": "f265415c",
   "metadata": {},
   "outputs": [],
   "source": [
    "# 2 player tic tac toe game. "
   ]
  },
  {
   "cell_type": "code",
   "execution_count": 3,
   "id": "0e48c826",
   "metadata": {},
   "outputs": [],
   "source": [
    "# 789\n",
    "# 456\n",
    "# 123"
   ]
  },
  {
   "cell_type": "code",
   "execution_count": null,
   "id": "ddde8352",
   "metadata": {},
   "outputs": [],
   "source": [
    "# user should be able to input x or o using number input\n",
    "# check if there is a winner"
   ]
  },
  {
   "cell_type": "markdown",
   "id": "3d699a6f",
   "metadata": {},
   "source": [
    "player 1: do you wan to be x or o?"
   ]
  },
  {
   "cell_type": "markdown",
   "id": "3d5fb5f8",
   "metadata": {},
   "source": [
    "player 1: choose position:\n",
    "platyer 2: choose position:\n",
    "blah blah ......\n"
   ]
  },
  {
   "cell_type": "markdown",
   "id": "473b1f01",
   "metadata": {},
   "source": [
    "process:\n",
    "    "
   ]
  }
 ],
 "metadata": {
  "kernelspec": {
   "display_name": "Python 3 (ipykernel)",
   "language": "python",
   "name": "python3"
  },
  "language_info": {
   "codemirror_mode": {
    "name": "ipython",
    "version": 3
   },
   "file_extension": ".py",
   "mimetype": "text/x-python",
   "name": "python",
   "nbconvert_exporter": "python",
   "pygments_lexer": "ipython3",
   "version": "3.9.7"
  }
 },
 "nbformat": 4,
 "nbformat_minor": 5
}
