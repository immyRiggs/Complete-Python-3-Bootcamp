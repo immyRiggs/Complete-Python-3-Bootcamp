{
 "cells": [
  {
   "cell_type": "code",
   "execution_count": 1,
   "id": "c9abb5e0",
   "metadata": {},
   "outputs": [],
   "source": [
    "# WARMUP lesser of two evens\n",
    "def lesser_of_two_evens(a,b):\n",
    "    if a%2 == 0 and b%2 ==0:\n",
    "        if a<b:     #min(a,b)\n",
    "            return a\n",
    "        else:\n",
    "            return b\n",
    "    else:           #max(a,b)\n",
    "        if a>b:\n",
    "            return a\n",
    "        else:\n",
    "            return b"
   ]
  },
  {
   "cell_type": "code",
   "execution_count": 2,
   "id": "7c046c02",
   "metadata": {},
   "outputs": [
    {
     "data": {
      "text/plain": [
       "2"
      ]
     },
     "execution_count": 2,
     "metadata": {},
     "output_type": "execute_result"
    }
   ],
   "source": [
    "lesser_of_two_evens(2,4)"
   ]
  },
  {
   "cell_type": "code",
   "execution_count": 3,
   "id": "2599e767",
   "metadata": {},
   "outputs": [
    {
     "data": {
      "text/plain": [
       "5"
      ]
     },
     "execution_count": 3,
     "metadata": {},
     "output_type": "execute_result"
    }
   ],
   "source": [
    "lesser_of_two_evens(2,5)"
   ]
  },
  {
   "cell_type": "code",
   "execution_count": 4,
   "id": "3c8992a8",
   "metadata": {},
   "outputs": [],
   "source": [
    "# WARMUP animal crackers\n",
    "def animal_crackers(text):\n",
    "    temp = text.split()\n",
    "    if temp[0][0] == temp[1][0]:\n",
    "        return True\n",
    "    else:\n",
    "        return False\n",
    "   # return temp[0][0] == temp[1][0] # one line. this func does not check case"
   ]
  },
  {
   "cell_type": "code",
   "execution_count": 5,
   "id": "fba4964b",
   "metadata": {},
   "outputs": [
    {
     "data": {
      "text/plain": [
       "True"
      ]
     },
     "execution_count": 5,
     "metadata": {},
     "output_type": "execute_result"
    }
   ],
   "source": [
    "animal_crackers('Levelheaded Llama')"
   ]
  },
  {
   "cell_type": "code",
   "execution_count": 6,
   "id": "72600fb4",
   "metadata": {},
   "outputs": [
    {
     "data": {
      "text/plain": [
       "False"
      ]
     },
     "execution_count": 6,
     "metadata": {},
     "output_type": "execute_result"
    }
   ],
   "source": [
    "animal_crackers('Crazy Kangaroo')"
   ]
  },
  {
   "cell_type": "code",
   "execution_count": 14,
   "id": "fc21245b",
   "metadata": {},
   "outputs": [],
   "source": [
    "#WARMUP makes twenty\n",
    "def makes_twenty(a,b):\n",
    "    #return (a+b) == 20 or a == 20 or b == 20\n",
    "    if a==20:\n",
    "        return True\n",
    "    elif b==20:\n",
    "        return True\n",
    "    elif sum((a,b)) == 20:\n",
    "        return True\n",
    "    else:\n",
    "        return False"
   ]
  },
  {
   "cell_type": "code",
   "execution_count": 15,
   "id": "b2ac3fe0",
   "metadata": {},
   "outputs": [
    {
     "data": {
      "text/plain": [
       "True"
      ]
     },
     "execution_count": 15,
     "metadata": {},
     "output_type": "execute_result"
    }
   ],
   "source": [
    "makes_twenty(20,10)"
   ]
  },
  {
   "cell_type": "code",
   "execution_count": 18,
   "id": "aa1ff5a4",
   "metadata": {},
   "outputs": [
    {
     "data": {
      "text/plain": [
       "False"
      ]
     },
     "execution_count": 18,
     "metadata": {},
     "output_type": "execute_result"
    }
   ],
   "source": [
    "makes_twenty(2,3)"
   ]
  },
  {
   "cell_type": "code",
   "execution_count": 19,
   "id": "deba4365",
   "metadata": {},
   "outputs": [
    {
     "data": {
      "text/plain": [
       "True"
      ]
     },
     "execution_count": 19,
     "metadata": {},
     "output_type": "execute_result"
    }
   ],
   "source": [
    "makes_twenty(2,18)"
   ]
  },
  {
   "cell_type": "code",
   "execution_count": 36,
   "id": "8bd2a5a9",
   "metadata": {},
   "outputs": [],
   "source": [
    "# LEVEL 1 old macdonald\n",
    "def old_macdonald(name):\n",
    "    temp=list(name)\n",
    "    temp[0]=temp[0].upper()\n",
    "    temp[3]=temp[3].upper()\n",
    "    return ''.join(temp)\n",
    "    "
   ]
  },
  {
   "cell_type": "code",
   "execution_count": 37,
   "id": "91c327ed",
   "metadata": {},
   "outputs": [
    {
     "data": {
      "text/plain": [
       "'MacDonald'"
      ]
     },
     "execution_count": 37,
     "metadata": {},
     "output_type": "execute_result"
    }
   ],
   "source": [
    "old_macdonald('macdonald')"
   ]
  },
  {
   "cell_type": "code",
   "execution_count": 62,
   "id": "bd8cbb80",
   "metadata": {},
   "outputs": [],
   "source": [
    "# LEVEL 1 yoda\n",
    "def master_yoda(text):\n",
    "    temp=text.split()\n",
    "    temp.reverse()\n",
    "    return ' '.join(temp)\n"
   ]
  },
  {
   "cell_type": "code",
   "execution_count": 63,
   "id": "f07aca57",
   "metadata": {},
   "outputs": [
    {
     "data": {
      "text/plain": [
       "'home am I'"
      ]
     },
     "execution_count": 63,
     "metadata": {},
     "output_type": "execute_result"
    }
   ],
   "source": [
    "master_yoda('I am home')"
   ]
  },
  {
   "cell_type": "code",
   "execution_count": 66,
   "id": "53ab3431",
   "metadata": {},
   "outputs": [
    {
     "data": {
      "text/plain": [
       "'ready are We'"
      ]
     },
     "execution_count": 66,
     "metadata": {},
     "output_type": "execute_result"
    }
   ],
   "source": [
    "master_yoda('We are ready')"
   ]
  },
  {
   "cell_type": "code",
   "execution_count": 68,
   "id": "7b4dc89c",
   "metadata": {},
   "outputs": [],
   "source": [
    "# LEVEL 1 almost there\n",
    "def almost_there(n):\n",
    "    if abs(n-100) <= 10 or abs(n-200) <= 10:\n",
    "        return True\n",
    "    else:\n",
    "        return False"
   ]
  },
  {
   "cell_type": "code",
   "execution_count": 69,
   "id": "326a35d3",
   "metadata": {},
   "outputs": [
    {
     "data": {
      "text/plain": [
       "True"
      ]
     },
     "execution_count": 69,
     "metadata": {},
     "output_type": "execute_result"
    }
   ],
   "source": [
    "almost_there(104)"
   ]
  },
  {
   "cell_type": "code",
   "execution_count": 70,
   "id": "32c2c540",
   "metadata": {},
   "outputs": [
    {
     "data": {
      "text/plain": [
       "False"
      ]
     },
     "execution_count": 70,
     "metadata": {},
     "output_type": "execute_result"
    }
   ],
   "source": [
    "almost_there(150)"
   ]
  },
  {
   "cell_type": "code",
   "execution_count": 71,
   "id": "62710392",
   "metadata": {},
   "outputs": [
    {
     "data": {
      "text/plain": [
       "True"
      ]
     },
     "execution_count": 71,
     "metadata": {},
     "output_type": "execute_result"
    }
   ],
   "source": [
    "almost_there(209)"
   ]
  },
  {
   "cell_type": "code",
   "execution_count": 72,
   "id": "6eb2439c",
   "metadata": {},
   "outputs": [
    {
     "data": {
      "text/plain": [
       "True"
      ]
     },
     "execution_count": 72,
     "metadata": {},
     "output_type": "execute_result"
    }
   ],
   "source": [
    "almost_there(90)"
   ]
  },
  {
   "cell_type": "code",
   "execution_count": 94,
   "id": "3a99d28d",
   "metadata": {},
   "outputs": [],
   "source": [
    "# LEVEL 2 find 33\n",
    "\n",
    "def has_33(nums):\n",
    "    previous_num = 0\n",
    "    for number in nums:\n",
    "        if number == 3:\n",
    "            if previous_num == 3:\n",
    "                return True\n",
    "            else:\n",
    "                previous_num = number\n",
    "        else:\n",
    "            previous_num = number\n",
    "    return False\n",
    "            "
   ]
  },
  {
   "cell_type": "code",
   "execution_count": 95,
   "id": "58baa0f5",
   "metadata": {},
   "outputs": [
    {
     "data": {
      "text/plain": [
       "True"
      ]
     },
     "execution_count": 95,
     "metadata": {},
     "output_type": "execute_result"
    }
   ],
   "source": [
    "has_33([1, 3, 3])"
   ]
  },
  {
   "cell_type": "code",
   "execution_count": 96,
   "id": "12374948",
   "metadata": {},
   "outputs": [
    {
     "data": {
      "text/plain": [
       "False"
      ]
     },
     "execution_count": 96,
     "metadata": {},
     "output_type": "execute_result"
    }
   ],
   "source": [
    "has_33([1, 3, 1, 3])"
   ]
  },
  {
   "cell_type": "code",
   "execution_count": 97,
   "id": "86f50b84",
   "metadata": {},
   "outputs": [
    {
     "data": {
      "text/plain": [
       "True"
      ]
     },
     "execution_count": 97,
     "metadata": {},
     "output_type": "execute_result"
    }
   ],
   "source": [
    "has_33([3, 1, 3, 1 , 2, 5, 3, 3, 6, 5])\n"
   ]
  },
  {
   "cell_type": "code",
   "execution_count": 108,
   "id": "c0c1649f",
   "metadata": {},
   "outputs": [],
   "source": [
    "# LEVEL 2 paper doll\n",
    "def paper_doll(text):\n",
    "    temp = list(text)\n",
    "    tempout = []\n",
    "    for idx,val in enumerate(temp): #PREFERRED METHOD FOR ITERATING WITH INDEX NUMBER\n",
    "        tempout.append(temp[idx]*3)\n",
    "    return ''.join(tempout)"
   ]
  },
  {
   "cell_type": "code",
   "execution_count": 329,
   "id": "11453e52",
   "metadata": {},
   "outputs": [],
   "source": [
    "def paper_doll2(text):\n",
    "    result = ''\n",
    "    for char in text:\n",
    "        result += char*3\n",
    "    return result"
   ]
  },
  {
   "cell_type": "code",
   "execution_count": 330,
   "id": "3ee318d9",
   "metadata": {},
   "outputs": [
    {
     "data": {
      "text/plain": [
       "'HHHeeellllllooo'"
      ]
     },
     "execution_count": 330,
     "metadata": {},
     "output_type": "execute_result"
    }
   ],
   "source": [
    "paper_doll2('Hello')"
   ]
  },
  {
   "cell_type": "code",
   "execution_count": 110,
   "id": "9867b3f0",
   "metadata": {},
   "outputs": [
    {
     "data": {
      "text/plain": [
       "'MMMiiissssssiiissssssiiippppppiii'"
      ]
     },
     "execution_count": 110,
     "metadata": {},
     "output_type": "execute_result"
    }
   ],
   "source": [
    "paper_doll('Mississippi')"
   ]
  },
  {
   "cell_type": "code",
   "execution_count": 163,
   "id": "e7850b81",
   "metadata": {},
   "outputs": [],
   "source": [
    "#LEVEL 2 blackjack \n",
    "def blackjack(a,b,c):\n",
    "    bust_message = 'BUST'\n",
    "\n",
    "    args = (a,b,c)\n",
    "    arg_sum = sum(args)\n",
    "    \n",
    "    def count11(args):\n",
    "        count = 0\n",
    "        for i in args:\n",
    "            if i == 11:\n",
    "                count = count + 1\n",
    "        return count\n",
    "    def is_over_21(n):\n",
    "        if n > 21:\n",
    "            return True\n",
    "        else:\n",
    "            return False\n",
    "    \n",
    "    if is_over_21(arg_sum):\n",
    "        if count11(args) > 0:\n",
    "            arg_sum=arg_sum-10\n",
    "            if is_over_21(arg_sum):\n",
    "                if count11(args) > 1:\n",
    "                    arg_sum=arg_sum-10\n",
    "                    if is_over_21(arg_sum):\n",
    "                        if count11(args) > 2:\n",
    "                            arg_sum=arg_sum-10\n",
    "                            if is_over_21(arg_sum):\n",
    "                                return bust_message\n",
    "                            else:\n",
    "                                return arg_sum\n",
    "                        else:\n",
    "                            return bust_message\n",
    "                    else:\n",
    "                        return arg_sum\n",
    "                else:\n",
    "                    return bust_message\n",
    "            else:\n",
    "                return arg_sum\n",
    "        else:\n",
    "            return bust_message\n",
    "    else:\n",
    "        return arg_sum\n",
    "    print(count11(args))"
   ]
  },
  {
   "cell_type": "code",
   "execution_count": 164,
   "id": "ced9dc16",
   "metadata": {},
   "outputs": [
    {
     "data": {
      "text/plain": [
       "19"
      ]
     },
     "execution_count": 164,
     "metadata": {},
     "output_type": "execute_result"
    }
   ],
   "source": [
    "blackjack(9,9,11)"
   ]
  },
  {
   "cell_type": "code",
   "execution_count": 165,
   "id": "d128766c",
   "metadata": {},
   "outputs": [
    {
     "data": {
      "text/plain": [
       "'BUST'"
      ]
     },
     "execution_count": 165,
     "metadata": {},
     "output_type": "execute_result"
    }
   ],
   "source": [
    "blackjack(9,9,9)"
   ]
  },
  {
   "cell_type": "code",
   "execution_count": 166,
   "id": "580c7b0a",
   "metadata": {},
   "outputs": [
    {
     "data": {
      "text/plain": [
       "18"
      ]
     },
     "execution_count": 166,
     "metadata": {},
     "output_type": "execute_result"
    }
   ],
   "source": [
    "blackjack(5,6,7)"
   ]
  },
  {
   "cell_type": "code",
   "execution_count": 167,
   "id": "64b19fc2",
   "metadata": {},
   "outputs": [
    {
     "data": {
      "text/plain": [
       "12"
      ]
     },
     "execution_count": 167,
     "metadata": {},
     "output_type": "execute_result"
    }
   ],
   "source": [
    "blackjack(10,11,11)"
   ]
  },
  {
   "cell_type": "code",
   "execution_count": 280,
   "id": "7c4e308e",
   "metadata": {},
   "outputs": [],
   "source": [
    "def blackjack2(): # Takes input from 1-52, deals 3 cards to player and dealer, no hitting or staying\n",
    "    bust_message = 'BUST'\n",
    "    cut = 0\n",
    "    while not (1<=cut<=52):\n",
    "        cut = int(input('Pick a card from 1-52: '))\n",
    "    cut = cut-1\n",
    "    from random import shuffle\n",
    "    \n",
    "    cards = [2,2,2,2,3,3,3,3,4,4,4,4,5,5,5,5,6,6,6,6,7,7,7,7,8,8,8,8,9,9,9,9,10,10,10,10,10,10,10,10,10,10,10,10,10,10,10,10,11,11,11,11]\n",
    "    deck = []\n",
    "    player_hand =[]\n",
    "    dealer_hand =[]\n",
    "    shuffle(cards) \n",
    "    shuffle(cards) \n",
    "    shuffle(cards)\n",
    "   \n",
    "    #args = (1,2,3)\n",
    "    #arg_sum = sum(args)\n",
    "    \n",
    "    def cut_deck(cut):\n",
    "        deck2 = cards[cut:]\n",
    "        deck1 = cards[:cut]\n",
    "        dealt_cards = deck2 + deck1\n",
    "        return dealt_cards\n",
    "    def deal(deck):\n",
    "        player_hand.append(deck[0])\n",
    "        player_hand.append(deck[2])\n",
    "        player_hand.append(deck[4])\n",
    "        dealer_hand.append(deck[1])\n",
    "        dealer_hand.append(deck[3])\n",
    "        dealer_hand.append(deck[5])\n",
    "    def hand_outcome(hand):\n",
    "        args = hand\n",
    "        arg_sum = sum(args)\n",
    "\n",
    "        def count11(args):\n",
    "            count = 0\n",
    "            for i in args:\n",
    "                if i == 11:\n",
    "                    count = count + 1\n",
    "            return count\n",
    "        def is_over_21(n):\n",
    "            if n > 21:\n",
    "                return True\n",
    "            else:\n",
    "                return False\n",
    "\n",
    "        if is_over_21(arg_sum):\n",
    "            if count11(args) > 0:\n",
    "                arg_sum=arg_sum-10\n",
    "                if is_over_21(arg_sum):\n",
    "                    if count11(args) > 1:\n",
    "                        arg_sum=arg_sum-10\n",
    "                        if is_over_21(arg_sum):\n",
    "                            if count11(args) > 2:\n",
    "                                arg_sum=arg_sum-10\n",
    "                                if is_over_21(arg_sum):\n",
    "                                    return bust_message\n",
    "                                else:\n",
    "                                    return arg_sum\n",
    "                            else:\n",
    "                                return bust_message\n",
    "                        else:\n",
    "                            return arg_sum\n",
    "                    else:\n",
    "                        return bust_message\n",
    "                else:\n",
    "                    return arg_sum\n",
    "            else:\n",
    "                return bust_message\n",
    "        else:\n",
    "            return arg_sum\n",
    "    def play(player_hand,dealer_hand):\n",
    "        player=hand_outcome(player_hand)\n",
    "        dealer=hand_outcome(dealer_hand)\n",
    "        \n",
    "        if player == 21 and dealer != 21:\n",
    "            return 'BLACKJACK!!'\n",
    "        else:\n",
    "            if player == bust_message:\n",
    "                return bust_message\n",
    "            elif dealer == bust_message:\n",
    "                return 'WINNER!'\n",
    "            elif dealer >= player:\n",
    "                return 'House Wins!'\n",
    "            else:\n",
    "                return 'WINNER!'\n",
    "\n",
    "        \n",
    "    deck = cut_deck(cut)\n",
    "    deal(deck)\n",
    "    print('player hand: ')\n",
    "    print(player_hand)\n",
    "    print('dealer hand: ' )\n",
    "    print(dealer_hand)\n",
    "    return play(player_hand,dealer_hand)"
   ]
  },
  {
   "cell_type": "code",
   "execution_count": 283,
   "id": "c0c17876",
   "metadata": {},
   "outputs": [
    {
     "name": "stdout",
     "output_type": "stream",
     "text": [
      "Pick a card from 1-52: 39\n",
      "player hand: \n",
      "[6, 8, 9]\n",
      "dealer hand: \n",
      "[4, 9, 11]\n"
     ]
    },
    {
     "data": {
      "text/plain": [
       "'BUST'"
      ]
     },
     "execution_count": 283,
     "metadata": {},
     "output_type": "execute_result"
    }
   ],
   "source": [
    "blackjack2()"
   ]
  },
  {
   "cell_type": "code",
   "execution_count": 331,
   "id": "90fe1e25",
   "metadata": {},
   "outputs": [],
   "source": [
    "#LEVEL 2 summer of 69\n",
    "def summer_69(arr):\n",
    "    previous_num = 0\n",
    "    tempout = arr\n",
    "    in69 = False\n",
    "    for idx,number in enumerate(arr):\n",
    "        if in69:\n",
    "            if number == 9:\n",
    "                in69 = False\n",
    "                tempout[idx] = 'del'\n",
    "            else:\n",
    "                tempout[idx] = 'del'\n",
    "        elif number == 6:\n",
    "            in69 = True\n",
    "            tempout[idx] = 'del'\n",
    "    try:\n",
    "        while True:\n",
    "            tempout.remove('del')\n",
    "    except ValueError:\n",
    "        pass\n",
    "    return sum(tempout)\n",
    "           "
   ]
  },
  {
   "cell_type": "code",
   "execution_count": 332,
   "id": "e5f09c99",
   "metadata": {},
   "outputs": [
    {
     "data": {
      "text/plain": [
       "9"
      ]
     },
     "execution_count": 332,
     "metadata": {},
     "output_type": "execute_result"
    }
   ],
   "source": [
    "summer_69([1, 3, 5])"
   ]
  },
  {
   "cell_type": "code",
   "execution_count": 333,
   "id": "aac27029",
   "metadata": {},
   "outputs": [
    {
     "data": {
      "text/plain": [
       "9"
      ]
     },
     "execution_count": 333,
     "metadata": {},
     "output_type": "execute_result"
    }
   ],
   "source": [
    "summer_69([4, 5, 6, 7, 8, 9])"
   ]
  },
  {
   "cell_type": "code",
   "execution_count": 334,
   "id": "ca947924",
   "metadata": {},
   "outputs": [
    {
     "data": {
      "text/plain": [
       "14"
      ]
     },
     "execution_count": 334,
     "metadata": {},
     "output_type": "execute_result"
    }
   ],
   "source": [
    "summer_69([2, 1, 6, 9, 11])"
   ]
  },
  {
   "cell_type": "code",
   "execution_count": 321,
   "id": "61377744",
   "metadata": {},
   "outputs": [],
   "source": [
    "#CHALLENGING spy game\n",
    "def spy_game(nums):\n",
    "    temp = []\n",
    "    spy_hint = []\n",
    "    for i in nums:\n",
    "        temp.append(str(i))\n",
    "    for i in temp:\n",
    "        if i == '0' or i =='7':\n",
    "            spy_hint.append(i)\n",
    "        \n",
    "    tempstr = ''.join(spy_hint)\n",
    "    spy = tempstr.find('007')\n",
    "    if spy < 0:\n",
    "        return False\n",
    "    else:\n",
    "        return True\n",
    "    \n",
    "    "
   ]
  },
  {
   "cell_type": "code",
   "execution_count": 322,
   "id": "894347b5",
   "metadata": {},
   "outputs": [
    {
     "data": {
      "text/plain": [
       "True"
      ]
     },
     "execution_count": 322,
     "metadata": {},
     "output_type": "execute_result"
    }
   ],
   "source": [
    "spy_game([1,0,4,0,3,7,5])"
   ]
  },
  {
   "cell_type": "code",
   "execution_count": 323,
   "id": "4ceceff7",
   "metadata": {},
   "outputs": [
    {
     "data": {
      "text/plain": [
       "True"
      ]
     },
     "execution_count": 323,
     "metadata": {},
     "output_type": "execute_result"
    }
   ],
   "source": [
    "spy_game([1,0,2,4,0,5,7])"
   ]
  },
  {
   "cell_type": "code",
   "execution_count": 324,
   "id": "ae5ab65b",
   "metadata": {},
   "outputs": [
    {
     "data": {
      "text/plain": [
       "False"
      ]
     },
     "execution_count": 324,
     "metadata": {},
     "output_type": "execute_result"
    }
   ],
   "source": [
    "spy_game([1,7,2,0,4,5,0])"
   ]
  },
  {
   "cell_type": "code",
   "execution_count": null,
   "id": "b1c5cfbd",
   "metadata": {},
   "outputs": [],
   "source": []
  }
 ],
 "metadata": {
  "kernelspec": {
   "display_name": "Python 3 (ipykernel)",
   "language": "python",
   "name": "python3"
  },
  "language_info": {
   "codemirror_mode": {
    "name": "ipython",
    "version": 3
   },
   "file_extension": ".py",
   "mimetype": "text/x-python",
   "name": "python",
   "nbconvert_exporter": "python",
   "pygments_lexer": "ipython3",
   "version": "3.9.7"
  }
 },
 "nbformat": 4,
 "nbformat_minor": 5
}
