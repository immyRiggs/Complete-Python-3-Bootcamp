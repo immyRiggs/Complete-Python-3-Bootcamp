{
 "cells": [
  {
   "cell_type": "code",
   "execution_count": 10,
   "id": "e723695b",
   "metadata": {},
   "outputs": [],
   "source": [
    "# Write a function that computes the volume of a sphere given its radius"
   ]
  },
  {
   "cell_type": "code",
   "execution_count": 11,
   "id": "68d5cda4",
   "metadata": {},
   "outputs": [],
   "source": [
    "def vol(rad):\n",
    "    from math import pi\n",
    "    return (4.0/3.0)*pi*rad**3"
   ]
  },
  {
   "cell_type": "code",
   "execution_count": 80,
   "id": "a5b45392",
   "metadata": {},
   "outputs": [],
   "source": [
    "def volSolution(rad):\n",
    "    return(4/3)*3.14*(rad**3)"
   ]
  },
  {
   "cell_type": "code",
   "execution_count": 12,
   "id": "0ce912c2",
   "metadata": {},
   "outputs": [
    {
     "data": {
      "text/plain": [
       "33.510321638291124"
      ]
     },
     "execution_count": 12,
     "metadata": {},
     "output_type": "execute_result"
    }
   ],
   "source": [
    "vol(2)"
   ]
  },
  {
   "cell_type": "code",
   "execution_count": 81,
   "id": "5584ea32",
   "metadata": {},
   "outputs": [
    {
     "data": {
      "text/plain": [
       "33.49333333333333"
      ]
     },
     "execution_count": 81,
     "metadata": {},
     "output_type": "execute_result"
    }
   ],
   "source": [
    "volSolution(2)"
   ]
  },
  {
   "cell_type": "code",
   "execution_count": 13,
   "id": "978049e8",
   "metadata": {},
   "outputs": [],
   "source": [
    "# Write a function that checks whether a number is in a given range (inclusive of high and low)\n"
   ]
  },
  {
   "cell_type": "code",
   "execution_count": 14,
   "id": "f4e72dfb",
   "metadata": {},
   "outputs": [],
   "source": [
    "def ran_check(num,low,high):\n",
    "    return num<=high and num >=low"
   ]
  },
  {
   "cell_type": "code",
   "execution_count": 82,
   "id": "a712d5a9",
   "metadata": {},
   "outputs": [],
   "source": [
    "def ran_checkSolution(num,low,high):\n",
    "    return num in range(low,high+1)"
   ]
  },
  {
   "cell_type": "code",
   "execution_count": 83,
   "id": "7b23541a",
   "metadata": {},
   "outputs": [
    {
     "data": {
      "text/plain": [
       "True"
      ]
     },
     "execution_count": 83,
     "metadata": {},
     "output_type": "execute_result"
    }
   ],
   "source": [
    "ran_check(5,2,7)"
   ]
  },
  {
   "cell_type": "code",
   "execution_count": 86,
   "id": "62e34e8d",
   "metadata": {},
   "outputs": [
    {
     "data": {
      "text/plain": [
       "True"
      ]
     },
     "execution_count": 86,
     "metadata": {},
     "output_type": "execute_result"
    }
   ],
   "source": [
    "ran_checkSolution(5,2,7)"
   ]
  },
  {
   "cell_type": "code",
   "execution_count": 18,
   "id": "74b8209c",
   "metadata": {},
   "outputs": [],
   "source": [
    "def ran_check2(num,low,high):\n",
    "    if num<=high and num >=low:\n",
    "        return \"%s is in the range between %s and %s\" % (num,low,high)\n",
    "    else:\n",
    "        return \"%s is not in the range between %s and %s\" % (num,low,high)"
   ]
  },
  {
   "cell_type": "code",
   "execution_count": 19,
   "id": "df52c38a",
   "metadata": {},
   "outputs": [
    {
     "data": {
      "text/plain": [
       "'5 is in the range between 2 and 7'"
      ]
     },
     "execution_count": 19,
     "metadata": {},
     "output_type": "execute_result"
    }
   ],
   "source": [
    "ran_check2(5,2,7)"
   ]
  },
  {
   "cell_type": "code",
   "execution_count": 20,
   "id": "e767700e",
   "metadata": {},
   "outputs": [],
   "source": [
    "#  Write a Python function that accepts a string and calculates the number of upper case letters and lower case letters."
   ]
  },
  {
   "cell_type": "code",
   "execution_count": 39,
   "id": "9eff38ca",
   "metadata": {},
   "outputs": [],
   "source": [
    "def up_low(s):\n",
    "    print(\"Original string: \" + s)\n",
    "    print(\"No. of Upper case characters: %s\" % (len(list(filter(lambda i:i.isupper(),s)))))\n",
    "    print(\"No. of Upper case characters: %s\" % (len(list(filter(lambda i:i.islower(),s)))))\n",
    "    "
   ]
  },
  {
   "cell_type": "code",
   "execution_count": 40,
   "id": "77382102",
   "metadata": {},
   "outputs": [
    {
     "name": "stdout",
     "output_type": "stream",
     "text": [
      "Original string: Hello Mr. Rogers, how are you this fine Tuesday?\n",
      "No. of Upper case characters: 4\n",
      "No. of Upper case characters: 33\n"
     ]
    }
   ],
   "source": [
    "s = 'Hello Mr. Rogers, how are you this fine Tuesday?'\n",
    "up_low(s)"
   ]
  },
  {
   "cell_type": "code",
   "execution_count": 41,
   "id": "1ae45339",
   "metadata": {},
   "outputs": [],
   "source": [
    "# Write a Python function that takes a list and returns a new list with unique elements of the first list."
   ]
  },
  {
   "cell_type": "code",
   "execution_count": 49,
   "id": "d1212799",
   "metadata": {},
   "outputs": [],
   "source": [
    "def unique_list(lst):\n",
    "    unique_vals=[]\n",
    "    for val in lst:\n",
    "        if val not in unique_vals:\n",
    "            unique_vals.append(val)\n",
    "    return unique_vals"
   ]
  },
  {
   "cell_type": "code",
   "execution_count": 89,
   "id": "b3fb24fb",
   "metadata": {},
   "outputs": [],
   "source": [
    "def unique_listSolution(lst): # More efficient\n",
    "    return list(set(lst))"
   ]
  },
  {
   "cell_type": "code",
   "execution_count": 50,
   "id": "1086cbeb",
   "metadata": {},
   "outputs": [
    {
     "data": {
      "text/plain": [
       "[1, 2, 3, 4, 5]"
      ]
     },
     "execution_count": 50,
     "metadata": {},
     "output_type": "execute_result"
    }
   ],
   "source": [
    "unique_list([1,1,1,1,2,2,3,3,3,3,4,5])"
   ]
  },
  {
   "cell_type": "code",
   "execution_count": 90,
   "id": "6b0b9bfc",
   "metadata": {},
   "outputs": [
    {
     "data": {
      "text/plain": [
       "[1, 2, 3, 4, 5]"
      ]
     },
     "execution_count": 90,
     "metadata": {},
     "output_type": "execute_result"
    }
   ],
   "source": [
    "unique_listSolution([1,1,1,1,2,2,3,3,3,3,4,5])"
   ]
  },
  {
   "cell_type": "code",
   "execution_count": 52,
   "id": "ed9d98ee",
   "metadata": {},
   "outputs": [],
   "source": [
    "# Write a Python function to multiply all the numbers in a list."
   ]
  },
  {
   "cell_type": "code",
   "execution_count": 53,
   "id": "7e2308bd",
   "metadata": {},
   "outputs": [],
   "source": [
    "def multiply(numbers):\n",
    "    out = 1\n",
    "    for n in numbers:\n",
    "        out = out*n\n",
    "    return out"
   ]
  },
  {
   "cell_type": "code",
   "execution_count": 54,
   "id": "db6f2806",
   "metadata": {},
   "outputs": [
    {
     "data": {
      "text/plain": [
       "-24"
      ]
     },
     "execution_count": 54,
     "metadata": {},
     "output_type": "execute_result"
    }
   ],
   "source": [
    "multiply([1,2,3,-4])"
   ]
  },
  {
   "cell_type": "code",
   "execution_count": 55,
   "id": "2c954b9d",
   "metadata": {},
   "outputs": [],
   "source": [
    "# Write a Python function that checks whether a passed in string is palindrome or not."
   ]
  },
  {
   "cell_type": "code",
   "execution_count": 63,
   "id": "c41fd317",
   "metadata": {},
   "outputs": [],
   "source": [
    "import string\n",
    "\n",
    "def palindrome(s):\n",
    "    string = s.replace(' ','')\n",
    "    return string.lower()==string[::-1].lower() # might not need lower here"
   ]
  },
  {
   "cell_type": "code",
   "execution_count": 70,
   "id": "796f0e48",
   "metadata": {},
   "outputs": [
    {
     "data": {
      "text/plain": [
       "True"
      ]
     },
     "execution_count": 70,
     "metadata": {},
     "output_type": "execute_result"
    }
   ],
   "source": [
    "palindrome('helleh')"
   ]
  },
  {
   "cell_type": "code",
   "execution_count": 71,
   "id": "c6e05876",
   "metadata": {},
   "outputs": [],
   "source": [
    "# Write a Python function to check whether a string is pangram or not."
   ]
  },
  {
   "cell_type": "code",
   "execution_count": 94,
   "id": "1b49bff6",
   "metadata": {},
   "outputs": [],
   "source": [
    "import string\n",
    "\n",
    "def ispangram(str1, alphabet=string.ascii_lowercase):\n",
    "    def unique_list(lst):\n",
    "        unique_vals=[]\n",
    "        for val in lst:\n",
    "            if val not in unique_vals:\n",
    "                unique_vals.append(val)\n",
    "        return unique_vals\n",
    "    return len(unique_list(list(filter(lambda a: alphabet.find(a)!=-1,str1))))==26\n",
    "            "
   ]
  },
  {
   "cell_type": "code",
   "execution_count": 79,
   "id": "ffd52c25",
   "metadata": {},
   "outputs": [
    {
     "data": {
      "text/plain": [
       "True"
      ]
     },
     "execution_count": 79,
     "metadata": {},
     "output_type": "execute_result"
    }
   ],
   "source": [
    "ispangram(\"The quick brown fox jumps over the lazy dog\")"
   ]
  },
  {
   "cell_type": "code",
   "execution_count": 99,
   "id": "0c12d5b3",
   "metadata": {},
   "outputs": [],
   "source": [
    "\n",
    "import string\n",
    "\n",
    "def ispangram2(str1, alphabet=string.ascii_lowercase):\n",
    "    return len(set(list(filter(lambda a: alphabet.find(a)!=-1,str1))))==26"
   ]
  },
  {
   "cell_type": "code",
   "execution_count": 100,
   "id": "f3f3d58f",
   "metadata": {},
   "outputs": [
    {
     "data": {
      "text/plain": [
       "True"
      ]
     },
     "execution_count": 100,
     "metadata": {},
     "output_type": "execute_result"
    }
   ],
   "source": [
    "ispangram2(\"The quick brown fox jumps over the lazy dog\")"
   ]
  },
  {
   "cell_type": "code",
   "execution_count": 97,
   "id": "8b4ba9cd",
   "metadata": {},
   "outputs": [],
   "source": [
    "def ispangramSolution(str1, alphabet=string.ascii_lowercase):\n",
    "    alphaset = set(alphabet)\n",
    "    str1 = str1.replace(' ','')\n",
    "    str1 = str1.lower()\n",
    "    str1 = set(str1)\n",
    "    return alphaset == str1"
   ]
  },
  {
   "cell_type": "code",
   "execution_count": 98,
   "id": "d2afac4d",
   "metadata": {},
   "outputs": [
    {
     "data": {
      "text/plain": [
       "True"
      ]
     },
     "execution_count": 98,
     "metadata": {},
     "output_type": "execute_result"
    }
   ],
   "source": [
    "ispangramSolution(\"The quick brown fox jumps over the lazy dog\")"
   ]
  },
  {
   "cell_type": "code",
   "execution_count": null,
   "id": "8cff3ee9",
   "metadata": {},
   "outputs": [],
   "source": []
  }
 ],
 "metadata": {
  "kernelspec": {
   "display_name": "Python 3 (ipykernel)",
   "language": "python",
   "name": "python3"
  },
  "language_info": {
   "codemirror_mode": {
    "name": "ipython",
    "version": 3
   },
   "file_extension": ".py",
   "mimetype": "text/x-python",
   "name": "python",
   "nbconvert_exporter": "python",
   "pygments_lexer": "ipython3",
   "version": "3.9.7"
  }
 },
 "nbformat": 4,
 "nbformat_minor": 5
}
